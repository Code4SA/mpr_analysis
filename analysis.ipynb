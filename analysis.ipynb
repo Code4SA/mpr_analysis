{
 "cells": [
  {
   "cell_type": "code",
   "execution_count": 4,
   "metadata": {
    "collapsed": true
   },
   "outputs": [],
   "source": [
    "%load_ext autoreload\n",
    "%autoreload 2"
   ]
  },
  {
   "cell_type": "code",
   "execution_count": 11,
   "metadata": {},
   "outputs": [
    {
     "data": {
      "text/plain": [
       "[<ProductIngredient: Xylestesin-A Adrenaline >,\n",
       " <ProductIngredient: Xylestesin-A Adrenaline 0>,\n",
       " <ProductIngredient: Xylestesin-A Lidocaine Hydrochloride 20>,\n",
       " <ProductIngredient: Xylestesin-A Lidocaine Hydochloride 20>]"
      ]
     },
     "execution_count": 11,
     "metadata": {},
     "output_type": "execute_result"
    }
   ],
   "source": [
    "from mpr_analysis.models import Product\n",
    "from mpr_analysis.config import get_session\n",
    "session = get_session()\n",
    "q = session.query(Product)\n",
    "product = q.first()\n",
    "product.ingredients"
   ]
  },
  {
   "cell_type": "code",
   "execution_count": 33,
   "metadata": {
    "collapsed": true
   },
   "outputs": [],
   "source": [
    "from fuzzywuzzy import fuzz, process\n",
    "ingnames= sorted([i.ingredient.name for i in product.ingredients])"
   ]
  },
  {
   "cell_type": "code",
   "execution_count": 31,
   "metadata": {},
   "outputs": [
    {
     "name": "stdout",
     "output_type": "stream",
     "text": [
      "Adrenaline Adrenaline 100\n",
      "Adrenaline Adrenaline 100\n",
      "Lidocaine Hydrochloride Adrenaline 30\n",
      "Lidocaine Hydochloride Lidocaine Hydrochloride 98\n",
      "Lidocaine Hydochloride Adrenaline 31\n"
     ]
    },
    {
     "data": {
      "text/plain": [
       "{u'Adrenaline', u'Lidocaine Hydrochloride'}"
      ]
     },
     "execution_count": 31,
     "metadata": {},
     "output_type": "execute_result"
    }
   ],
   "source": [
    "chosen_names = set()\n",
    "chosen_names.add(ingnames[0])\n",
    "for name in ingnames:\n",
    "    matched = False\n",
    "    for choice in chosen_names:\n",
    "        print name, choice, fuzz.ratio(name, choice)\n",
    "        if fuzz.ratio(name, choice) > 80:\n",
    "            matched = True\n",
    "    if not matched:\n",
    "        chosen_names.add(name)\n",
    "chosen_names\n",
    "\n",
    "# go through the names. if the name isn't similar to an existing name, keep it."
   ]
  },
  {
   "cell_type": "code",
   "execution_count": null,
   "metadata": {
    "collapsed": true
   },
   "outputs": [],
   "source": []
  }
 ],
 "metadata": {
  "kernelspec": {
   "display_name": "Python 2",
   "language": "python",
   "name": "python2"
  },
  "language_info": {
   "codemirror_mode": {
    "name": "ipython",
    "version": 2
   },
   "file_extension": ".py",
   "mimetype": "text/x-python",
   "name": "python",
   "nbconvert_exporter": "python",
   "pygments_lexer": "ipython2",
   "version": "2.7.13"
  }
 },
 "nbformat": 4,
 "nbformat_minor": 2
}
